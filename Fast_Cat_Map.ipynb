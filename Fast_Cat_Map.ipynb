{
 "cells": [
  {
   "cell_type": "code",
   "execution_count": 6,
   "metadata": {},
   "outputs": [],
   "source": [
    "import math\n",
    "import numpy as np\n",
    "import os\n",
    "import time\n",
    "import global_params\n",
    "import cat_params\n",
    "from image_functions import read_images, show_images, save_images\n",
    "from bit_functions import MIE_Bit_Manipulation"
   ]
  },
  {
   "cell_type": "markdown",
   "metadata": {},
   "source": [
    "# **Read images**"
   ]
  },
  {
   "cell_type": "code",
   "execution_count": 7,
   "metadata": {},
   "outputs": [],
   "source": [
    "path = 'C:\\\\Users\\\\HH\\\\Documents\\\\DICOM\\\\MIE_Cryptography\\\\'\n",
    "dir_plain = path + 'plain_images'\n",
    "\n",
    "kI, str_Fnames = read_images(dir_plain, size = (global_params.M, global_params.N))\n",
    "\n",
    "# Destination folder\n",
    "dir_cipher = path + 'cipher_images' + global_params.NamePCM\n",
    "\n",
    "if not os.path.exists(dir_cipher):\n",
    "    os.mkdir(dir_cipher)"
   ]
  },
  {
   "cell_type": "code",
   "execution_count": 8,
   "metadata": {},
   "outputs": [],
   "source": [
    "# kC\n",
    "kC = kI\n",
    "# for k in range(global_params.K):\n",
    "#     for i in range(global_params.N):\n",
    "#         for j in range(global_params.M):\n",
    "#             kC[k][i][j] = global_params.fl2fx(kI[k][i][j])\n",
    "\n",
    "#kC-\n",
    "kC_minus = global_params.kC0\n",
    "\n",
    "#kP+\n",
    "kP_plus = np.zeros((global_params.K, 1))\n",
    "for i in range(global_params.K):\n",
    "    kP_plus[i] = kC[i][0][1]"
   ]
  },
  {
   "cell_type": "markdown",
   "metadata": {},
   "source": [
    "# **Diffusion**"
   ]
  },
  {
   "cell_type": "code",
   "execution_count": 9,
   "metadata": {},
   "outputs": [
    {
     "name": "stdout",
     "output_type": "stream",
     "text": [
      "================================START RUNNING================================\n"
     ]
    }
   ],
   "source": [
    "print(\"================================START RUNNING================================\")\n",
    "for i in range(global_params.Ne):\n",
    "    start_time = time.time() # Record start time in seconds unit\n",
    "    E = MIE_Bit_Manipulation(kC_minus, kP_plus, cat_params.k1_cat)\n",
    "    end_time = time.time() # Record end time in senconds unit"
   ]
  }
 ],
 "metadata": {
  "kernelspec": {
   "display_name": "Python 3.11.0 64-bit",
   "language": "python",
   "name": "python3"
  },
  "language_info": {
   "codemirror_mode": {
    "name": "ipython",
    "version": 3
   },
   "file_extension": ".py",
   "mimetype": "text/x-python",
   "name": "python",
   "nbconvert_exporter": "python",
   "pygments_lexer": "ipython3",
   "version": "3.11.0"
  },
  "orig_nbformat": 4,
  "vscode": {
   "interpreter": {
    "hash": "0589ac52330daa8d387b383d7b5cabcc28652edca408b10bffe6153d8c6cc45e"
   }
  }
 },
 "nbformat": 4,
 "nbformat_minor": 2
}
